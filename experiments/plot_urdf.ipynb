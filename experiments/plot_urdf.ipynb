{
 "cells": [
  {
   "cell_type": "code",
   "execution_count": 1,
   "id": "e6814a0d-ef97-4559-af5a-0fc009f20b0a",
   "metadata": {},
   "outputs": [],
   "source": [
    "import ipywidgets as w"
   ]
  },
  {
   "cell_type": "code",
   "execution_count": 2,
   "id": "c8c71cc3-d040-4e52-b57f-ba983ec69280",
   "metadata": {},
   "outputs": [],
   "source": [
    "text_wg=w.Text(\n",
    "    value=\"\",\n",
    "    placeholder=\"Path\",\n",
    "    description=\"Directory:\",\n",
    "    layout=w.Layout(width=\"400px\")\n",
    ")"
   ]
  },
  {
   "cell_type": "code",
   "execution_count": 3,
   "id": "84ac1853-6285-44ac-bafc-cafd0d68e978",
   "metadata": {},
   "outputs": [],
   "source": [
    "import viser\n",
    "import yourdfpy\n",
    "import numpy as np\n",
    "from viser.extras import ViserUrdf"
   ]
  },
  {
   "cell_type": "code",
   "execution_count": 4,
   "id": "f4cb03c0-c645-473d-9566-51c167aa080e",
   "metadata": {},
   "outputs": [],
   "source": [
    "import os\n",
    "os.chdir('/home/hcis-s17/author_workdir/gymnasium_environments/')"
   ]
  },
  {
   "cell_type": "code",
   "execution_count": 5,
   "id": "ebad6063-7b33-44d9-8713-bc668d579b85",
   "metadata": {},
   "outputs": [],
   "source": [
    "load_meshes=True\n",
    "load_collision_meshes=False\n",
    "robot_urdf_object = yourdfpy.URDF.load(\n",
    "    \"/home/hcis-s17/author_workdir/gymnasium_environments/src/gymnasium_environments/meshes/franka_panda/robots/franka_panda_umi.urdf\",\n",
    "    load_meshes=load_meshes,\n",
    "    build_scene_graph=load_meshes,\n",
    "    load_collision_meshes=load_collision_meshes,\n",
    "    build_collision_scene_graph=load_collision_meshes,\n",
    ")\n"
   ]
  },
  {
   "cell_type": "code",
   "execution_count": 6,
   "id": "5ded8b47-76c2-4d12-b230-f5acd6ce9a25",
   "metadata": {},
   "outputs": [
    {
     "data": {
      "text/plain": [
       "<yourdfpy.urdf.URDF at 0x7efc54c3a1a0>"
      ]
     },
     "execution_count": 6,
     "metadata": {},
     "output_type": "execute_result"
    }
   ],
   "source": [
    "robot_urdf_object"
   ]
  },
  {
   "cell_type": "code",
   "execution_count": 7,
   "id": "ca9c96e9-5f93-47bb-ba35-e850af2277b6",
   "metadata": {},
   "outputs": [],
   "source": [
    "def create_robot_control_sliders(\n",
    "    server: viser.ViserServer, viser_urdf: ViserUrdf\n",
    ") -> tuple[list[viser.GuiInputHandle[float]], list[float]]:\n",
    "    slider_handles: list[viser.GuiInputHandle[float]] = []\n",
    "    initial_config: list[float] = []\n",
    "    for joint_name, (\n",
    "        lower,\n",
    "        upper,\n",
    "    ) in viser_urdf.get_actuated_joint_limits().items():\n",
    "        lower = lower if lower is not None else -np.pi\n",
    "        upper = upper if upper is not None else np.pi\n",
    "        initial_pos = 0.0 if lower < -0.1 and upper > 0.1 else (lower + upper) / 2.0\n",
    "        slider = server.gui.add_slider(\n",
    "            label=joint_name,\n",
    "            min=lower,\n",
    "            max=upper,\n",
    "            step=1e-3,\n",
    "            initial_value=initial_pos,\n",
    "        )\n",
    "        slider.on_update(  # When sliders move, we update the URDF configuration.\n",
    "            lambda _: viser_urdf.update_cfg(\n",
    "                np.array([slider.value for slider in slider_handles])\n",
    "            )\n",
    "        )\n",
    "        slider_handles.append(slider)\n",
    "        initial_config.append(initial_pos)\n",
    "    return slider_handles, initial_config"
   ]
  },
  {
   "cell_type": "code",
   "execution_count": 8,
   "id": "e7dce6d1-6917-4798-bc86-7536ffe4cd37",
   "metadata": {},
   "outputs": [
    {
     "data": {
      "text/html": [
       "<pre style=\"white-space:pre;overflow-x:auto;line-height:normal;font-family:Menlo,'DejaVu Sans Mono',consolas,'Courier New',monospace\">╭──────────────── <span style=\"font-weight: bold\">viser</span> ────────────────╮\n",
       "│             ╷                         │\n",
       "│   HTTP      │ http://localhost:8000   │\n",
       "│   Websocket │ ws://localhost:8000     │\n",
       "│             ╵                         │\n",
       "╰───────────────────────────────────────╯\n",
       "</pre>\n"
      ],
      "text/plain": [
       "╭──────────────── \u001b[1mviser\u001b[0m ────────────────╮\n",
       "│             ╷                         │\n",
       "│   HTTP      │ http://localhost:8000   │\n",
       "│   Websocket │ ws://localhost:8000     │\n",
       "│             ╵                         │\n",
       "╰───────────────────────────────────────╯\n"
      ]
     },
     "metadata": {},
     "output_type": "display_data"
    }
   ],
   "source": [
    "server = viser.ViserServer(host=\"0.0.0.0\", port=8000)\n",
    "viser_urdf = ViserUrdf(\n",
    "    server,\n",
    "    urdf_or_path=robot_urdf_object,\n",
    "    load_meshes=load_meshes,\n",
    "    load_collision_meshes=load_collision_meshes,\n",
    "    collision_mesh_color_override=(1.0, 0.0, 0.0, 0.5),\n",
    ")\n",
    "\n",
    "# Create sliders in GUI that help us move the robot joints.\n",
    "with server.gui.add_folder(\"Joint position control\"):\n",
    "    (slider_handles, initial_config) = create_robot_control_sliders(\n",
    "        server, viser_urdf\n",
    "    )\n",
    "\n",
    "# Add visibility checkboxes.\n",
    "with server.gui.add_folder(\"Visibility\"):\n",
    "    show_meshes_cb = server.gui.add_checkbox(\n",
    "        \"Show meshes\",\n",
    "        viser_urdf.show_visual,\n",
    "    )\n",
    "    show_collision_meshes_cb = server.gui.add_checkbox(\n",
    "        \"Show collision meshes\", viser_urdf.show_collision\n",
    "    )\n",
    "\n",
    "@show_meshes_cb.on_update\n",
    "def _(_):\n",
    "    viser_urdf.show_visual = show_meshes_cb.value\n",
    "\n",
    "@show_collision_meshes_cb.on_update\n",
    "def _(_):\n",
    "    viser_urdf.show_collision = show_collision_meshes_cb.value\n",
    "\n",
    "# Hide checkboxes if meshes are not loaded.\n",
    "show_meshes_cb.visible = load_meshes\n",
    "show_collision_meshes_cb.visible = load_collision_meshes\n",
    "\n",
    "# Set initial robot configuration.\n",
    "viser_urdf.update_cfg(np.array(initial_config))\n",
    "\n",
    "# Create grid.\n",
    "trimesh_scene = viser_urdf._urdf.scene or viser_urdf._urdf.collision_scene\n",
    "server.scene.add_grid(\n",
    "    \"/grid\",\n",
    "    width=2,\n",
    "    height=2,\n",
    "    position=(\n",
    "        0.0,\n",
    "        0.0,\n",
    "        # Get the minimum z value of the trimesh scene.\n",
    "        trimesh_scene.bounds[0, 2] if trimesh_scene is not None else 0.0,\n",
    "    ),\n",
    ")\n",
    "\n",
    "# Create joint reset button.\n",
    "reset_button = server.gui.add_button(\"Reset\")\n",
    "\n",
    "@reset_button.on_click\n",
    "def _(_):\n",
    "    for s, init_q in zip(slider_handles, initial_config):\n",
    "        s.value = init_q\n",
    "\n",
    "\n",
    "try:\n",
    "    server.scene.reset()\n",
    "except NameError:\n",
    "    server = viser.ViserServer()"
   ]
  },
  {
   "cell_type": "code",
   "execution_count": 11,
   "id": "a717d2f6-467b-41de-9c79-5f972c6b08d0",
   "metadata": {},
   "outputs": [
    {
     "data": {
      "text/html": [
       "\n",
       "        <iframe\n",
       "            width=\"100%\"\n",
       "            height=\"700px\"\n",
       "            src=\"http://localhost:8000\"\n",
       "            frameborder=\"0\"\n",
       "            allowfullscreen\n",
       "            \n",
       "        ></iframe>\n",
       "        "
      ],
      "text/plain": [
       "<IPython.lib.display.IFrame at 0x7efc520ff0d0>"
      ]
     },
     "execution_count": 11,
     "metadata": {},
     "output_type": "execute_result"
    }
   ],
   "source": [
    "from IPython.display import IFrame\n",
    "app_url=\"http://localhost:8000\"\n",
    "IFrame(src=app_url, width='100%', height='700px')"
   ]
  },
  {
   "cell_type": "code",
   "execution_count": 9,
   "id": "8d41280c-2fe7-4a5b-8b39-5206fc1b0b5f",
   "metadata": {},
   "outputs": [],
   "source": [
    "def show_urdf(dirpath):\n",
    "    pass"
   ]
  }
 ],
 "metadata": {
  "kernelspec": {
   "display_name": "Python 3 (ipykernel)",
   "language": "python",
   "name": "python3"
  },
  "language_info": {
   "codemirror_mode": {
    "name": "ipython",
    "version": 3
   },
   "file_extension": ".py",
   "mimetype": "text/x-python",
   "name": "python",
   "nbconvert_exporter": "python",
   "pygments_lexer": "ipython3",
   "version": "3.10.18"
  }
 },
 "nbformat": 4,
 "nbformat_minor": 5
}
