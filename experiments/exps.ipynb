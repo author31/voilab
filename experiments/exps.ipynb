{
 "cells": [
  {
   "cell_type": "code",
   "execution_count": 3,
   "id": "0cdf7d2c-784a-4a0e-9704-b33087b092f9",
   "metadata": {},
   "outputs": [],
   "source": [
    "%load_ext autoreload\n",
    "%autoreload 2"
   ]
  },
  {
   "cell_type": "code",
   "execution_count": 4,
   "id": "22eac16d-3137-44ff-be70-6a15bd2914f5",
   "metadata": {},
   "outputs": [],
   "source": [
    "import yaml\n",
    "from pathlib import Path\n",
    "from umi.services.video_organization import VideoOrganizationService\n",
    "from umi.pipeline_executor import PipelineExecutor"
   ]
  },
  {
   "cell_type": "code",
   "execution_count": 5,
   "id": "4708dbd2-12b4-4b1f-9e65-61a7545807ad",
   "metadata": {},
   "outputs": [],
   "source": [
    "fp=\"/home/hcis-s17/author_workdir/voilab/umi_pipeline_configs/test_pipeline_config.yaml\"\n",
    "executor=PipelineExecutor(fp)"
   ]
  },
  {
   "cell_type": "code",
   "execution_count": 6,
   "id": "ebf6370b-0b3c-441c-9687-35f83cbdf07e",
   "metadata": {
    "scrolled": true
   },
   "outputs": [
    {
     "name": "stdout",
     "output_type": "stream",
     "text": [
      "Pulling docker image chicheng/orb_slam3:latest\n",
      "latest: Pulling from chicheng/orb_slam3\n",
      "Digest: sha256:fbf562a6707a0fe9bafb04375c4cfb7b051156c14bc1e820f3f238b9aa17744f\n",
      "Status: Image is up to date for chicheng/orb_slam3:latest\n",
      "docker.io/chicheng/orb_slam3:latest\n",
      "Running SLAM mapping in /home/hcis-s17/author_workdir/voilab/example_demo_session/demos/mapping...\n"
     ]
    },
    {
     "data": {
      "text/plain": [
       "{'00_process_video': {'moved_to_raw_videos': 0,\n",
       "  'mapping_video': None,\n",
       "  'gripper_calibration': {},\n",
       "  'organized_demos': 0},\n",
       " '01_extract_gopro_imu': {'extracted': [{'imu_file': 'True',\n",
       "    'demo': 'demo_C3441328164125_2024.01.10_11.04.02.335867'},\n",
       "   {'imu_file': 'True',\n",
       "    'demo': 'demo_C3441328164125_2024.01.10_11.03.35.292183'},\n",
       "   {'imu_file': 'True', 'demo': 'mapping'},\n",
       "   {'imu_file': 'True',\n",
       "    'demo': 'demo_C3441328164125_2024.01.10_11.02.36.633583'},\n",
       "   {'imu_file': 'True',\n",
       "    'demo': 'demo_C3441328164125_2024.01.10_11.03.03.860783'},\n",
       "   {'imu_file': 'True',\n",
       "    'demo': 'gripper_calibration_C3441328164125_2024.01.10_10.34.30.966267'},\n",
       "   {'imu_file': 'True',\n",
       "    'demo': 'demo_C3441328164125_2024.01.10_10.57.34.882133'}],\n",
       "  'failed': []},\n",
       " '02_create_map': {'map_path': '/home/hcis-s17/author_workdir/voilab/example_demo_session/demos/mapping/map_atlas.osa',\n",
       "  'trajectory_csv': '/home/hcis-s17/author_workdir/voilab/example_demo_session/demos/mapping/mapping_camera_trajectory.csv',\n",
       "  'stdout_log': '/home/hcis-s17/author_workdir/voilab/example_demo_session/demos/mapping/slam_stdout.txt',\n",
       "  'stderr_log': '/home/hcis-s17/author_workdir/voilab/example_demo_session/demos/mapping/slam_stderr.txt'}}"
      ]
     },
     "execution_count": 6,
     "metadata": {},
     "output_type": "execute_result"
    }
   ],
   "source": [
    "executor.execute_all()"
   ]
  },
  {
   "cell_type": "code",
   "execution_count": null,
   "id": "785e0d3c-1606-4d15-a844-f7ed82928f1f",
   "metadata": {},
   "outputs": [],
   "source": []
  }
 ],
 "metadata": {
  "kernelspec": {
   "display_name": "Python 3 (ipykernel)",
   "language": "python",
   "name": "python3"
  },
  "language_info": {
   "codemirror_mode": {
    "name": "ipython",
    "version": 3
   },
   "file_extension": ".py",
   "mimetype": "text/x-python",
   "name": "python",
   "nbconvert_exporter": "python",
   "pygments_lexer": "ipython3",
   "version": "3.10.16"
  }
 },
 "nbformat": 4,
 "nbformat_minor": 5
}
