{
 "cells": [
  {
   "cell_type": "markdown",
   "metadata": {},
   "source": [
    "# ArUco Detection Viewer\n",
    "\n",
    "> A visualization tool for exploring ArUco marker detection results. This application loads video frames and their corresponding detection results, allowing users to inspect detected markers, their positions, orientations, and track detection quality across frames."
   ]
  },
  {
   "cell_type": "code",
   "execution_count": null,
   "metadata": {
    "collapsed": true,
    "jupyter": {
     "outputs_hidden": true
    },
    "scrolled": true
   },
   "outputs": [],
   "source": [
    "import ipywidgets as w\n",
    "from voilab.applications import aruco_detection_viewer\n",
    "\n",
    "# Directory browser widget\n",
    "dir_path_widget = w.Text(\n",
    "    value=\"\",\n",
    "    placeholder=\"Enter path to directory containing raw_video.mp4 and tag_detection.pkl\",\n",
    "    description=\"Directory:\", \n",
    "    layout=w.Layout(width=\"500px\")\n",
    ")\n",
    "\n",
    "# Size controls\n",
    "fig_width = w.IntSlider(value=4, min=4, max=15, step=1, description=\"Width (in):\")\n",
    "fig_height = w.IntSlider(value=5, min=3, max=12, step=1, description=\"Height (in):\")\n",
    "dpi = w.IntSlider(value=100, min=50, max=200, step=10, description=\"DPI:\")\n",
    "\n",
    "run_button = w.Button(description=\"Load\", button_style=\"success\")\n",
    "output = w.Output()\n",
    "\n",
    "form = w.VBox([\n",
    "    dir_path_widget,\n",
    "    w.HBox([fig_width, fig_height, dpi]),\n",
    "    run_button,\n",
    "    output\n",
    "])\n",
    "display(form)\n",
    "\n",
    "\n",
    "def load_and_show(_):\n",
    "    with output:\n",
    "        output.clear_output()\n",
    "        try:\n",
    "            if not dir_path_widget.value.strip():\n",
    "                print(\"Please select a directory\")\n",
    "                return\n",
    "            aruco_detection_viewer.show(\n",
    "                dir_path_widget.value.strip(),\n",
    "                figsize=(fig_width.value, fig_height.value),\n",
    "                dpi=dpi.value\n",
    "            )\n",
    "        except Exception as e:\n",
    "            print(f\"Error: {e}\")\n",
    "            print(\"\\nPlease ensure the directory contains both raw_video.mp4 and tag_detection.pkl files\")\n",
    "\n",
    "\n",
    "run_button.on_click(load_and_show)"
   ]
  }
 ],
 "metadata": {
  "kernelspec": {
   "display_name": "Python 3 (ipykernel)",
   "language": "python",
   "name": "python3"
  },
  "language_info": {
   "codemirror_mode": {
    "name": "ipython",
    "version": 3
   },
   "file_extension": ".py",
   "mimetype": "text/x-python",
   "name": "python",
   "nbconvert_exporter": "python",
   "pygments_lexer": "ipython3",
   "version": "3.10.18"
  }
 },
 "nbformat": 4,
 "nbformat_minor": 4
}
