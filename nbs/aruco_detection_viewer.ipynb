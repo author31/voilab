{
 "cells": [
  {
   "cell_type": "markdown",
   "metadata": {},
   "source": [
    "# ArUco Detection Viewer\n",
    "\n",
    "> A visualization tool for exploring ArUco marker detection results. This application loads video frames and their corresponding detection results, allowing users to inspect detected markers, their positions, orientations, and track detection quality across frames."
   ]
  },
  {
   "cell_type": "code",
   "execution_count": null,
   "metadata": {
    "collapsed": true,
    "jupyter": {
     "outputs_hidden": true
    },
    "scrolled": true
   },
   "outputs": [],
   "source": "import ipywidgets as w\nfrom voilab.applications import aruco_detection_viewer\nfrom pathlib import Path\nimport cv2\nimport numpy as np\nimport matplotlib.pyplot as plt\nimport io\nimport base64\n\n# Directory browser widget\ndir_path_widget = w.Text(\n    value=\"\",\n    placeholder=\"Enter path to directory containing raw_video.mp4 and tag_detection.pkl\",\n    description=\"Directory:\", \n    layout=w.Layout(width=\"500px\")\n)\n\n# Size controls\nfig_width = w.IntSlider(value=4, min=4, max=15, step=1, description=\"Width (in):\")\nfig_height = w.IntSlider(value=5, min=3, max=12, step=1, description=\"Height (in):\")\ndpi = w.IntSlider(value=100, min=50, max=200, step=10, description=\"DPI:\")\n\n# Parameter file widgets with file pickers\ndef pick_file(b):\n    import tkinter as tk\n    from tkinter import filedialog\n    root = tk.Tk()\n    root.withdraw()\n    \n    if b.description == \"Browse Camera\":\n        filename = filedialog.askopenfilename(\n            title=\"Select Camera Intrinsics JSON\",\n            filetypes=[(\"JSON files\", \"*.json\"), (\"All files\", \"*.*\")]\n        )\n        if filename:\n            camera_intrinsics_widget.value = filename\n    elif b.description == \"Browse ArUco\":\n        filename = filedialog.askopenfilename(\n            title=\"Select ArUco Config YAML\",\n            filetypes=[(\"YAML files\", \"*.yaml\"), (\"YAML files\", \"*.yml\"), (\"All files\", \"*.*\")]\n        )\n        if filename:\n            aruco_config_widget.value = filename\n\ncamera_intrinsics_widget = w.Text(\n    value=\"\",\n    placeholder=\"Path to camera intrinsics JSON file\",\n    description=\"Camera Intrinsics:\",\n    layout=w.Layout(width=\"400px\")\n)\n\ncamera_browse_button = w.Button(description=\"Browse Camera\", button_style=\"info\")\n\naruco_config_widget = w.Text(\n    value=\"\",\n    placeholder=\"Path to ArUco config YAML file\",\n    description=\"ArUco Config:\",\n    layout=w.Layout(width=\"400px\")\n)\n\naruco_browse_button = w.Button(description=\"Browse ArUco\", button_style=\"info\")\n\n# Connect browse buttons\ncamera_browse_button.on_click(pick_file)\naruco_browse_button.on_click(pick_file)\n\n# Quick load buttons for common configurations\nquick_load_section = w.HTML(\"<h3>Quick Load Configurations</h3>\")\n\ndef load_gopro13_config(_):\n    base_path = Path(\"packages/umi/defaults/calibration\")\n    camera_intrinsics_widget.value = str(base_path / \"gopro_intrinsics_2_7k.json\")\n    aruco_config_widget.value = str(base_path / \"aruco_config.yaml\")\n\ngopro13_button = w.Button(description=\"Load GoPro 13 Config\", button_style=\"warning\")\ngopro13_button.on_click(load_gopro13_config)\n\n# Run button\nrun_button = w.Button(description=\"Load Viewer\", button_style=\"success\")\noutput = w.Output()\n\n# Form layout\nform = w.VBox([\n    dir_path_widget,\n    w.HBox([fig_width, fig_height, dpi]),\n    quick_load_section,\n    w.HBox([gopro13_button]),\n    w.HBox([camera_intrinsics_widget, camera_browse_button]),\n    w.HBox([aruco_config_widget, aruco_browse_button]),\n    run_button,\n    output\n])\ndisplay(form)\n\n\ndef load_and_show(_):\n    with output:\n        output.clear_output()\n        try:\n            if not dir_path_widget.value.strip():\n                print(\"❌ Please select a directory\")\n                return\n                \n            dir_path = dir_path_widget.value.strip()\n            if not Path(dir_path).exists():\n                print(f\"❌ Directory does not exist: {dir_path}\")\n                return\n                \n            # Check for required files\n            video_path = Path(dir_path) / \"raw_video.mp4\"\n            pkl_path = Path(dir_path) / \"tag_detection.pkl\"\n            \n            if not video_path.exists():\n                print(f\"❌ Video file not found: {video_path}\")\n                return\n                \n            if not pkl_path.exists():\n                print(f\"❌ Detection results not found: {pkl_path}\")\n                return\n            \n            print(\"✅ Loading ArUco Detection Viewer...\")\n            print(f\"📁 Directory: {dir_path}\")\n            \n            # Show optional parameters\n            if camera_intrinsics_widget.value.strip():\n                print(f\"📷 Camera Intrinsics: {camera_intrinsics_widget.value}\")\n            if aruco_config_widget.value.strip():\n                print(f\"🏷️  ArUco Config: {aruco_config_widget.value}\")\n            \n            # Load the viewer\n            aruco_detection_viewer.show(\n                dir_path,\n                figsize=(fig_width.value, fig_height.value),\n                dpi=dpi.value\n            )\n            \n        except Exception as e:\n            print(f\"❌ Error: {e}\")\n            print(\"\\n📋 Troubleshooting:\")\n            print(\"- Ensure the directory contains both raw_video.mp4 and tag_detection.pkl\")\n            print(\"- Check that camera intrinsics file is valid JSON if provided\")\n            print(\"- Check that ArUco config file is valid YAML if provided\")\n            print(\"- Make sure PyYAML is installed: pip install PyYAML\")\n\n\nrun_button.on_click(load_and_show)"
  }
 ],
 "metadata": {
  "kernelspec": {
   "display_name": "Python 3 (ipykernel)",
   "language": "python",
   "name": "python3"
  },
  "language_info": {
   "codemirror_mode": {
    "name": "ipython",
    "version": 3
   },
   "file_extension": ".py",
   "mimetype": "text/x-python",
   "name": "python",
   "nbconvert_exporter": "python",
   "pygments_lexer": "ipython3",
   "version": "3.10.18"
  }
 },
 "nbformat": 4,
 "nbformat_minor": 4
}